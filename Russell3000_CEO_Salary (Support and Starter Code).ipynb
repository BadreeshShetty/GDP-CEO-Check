{
 "cells": [
  {
   "cell_type": "code",
   "execution_count": null,
   "id": "4b932cd2",
   "metadata": {},
   "outputs": [],
   "source": [
    "import pandas as pd\n",
    "import numpy as np\n",
    "\n",
    "import plotly.offline as py\n",
    "import plotly.express as px\n",
    "import plotly.graph_objects as goz\n",
    "\n",
    "import plotly.figure_factory as ff\n",
    "\n",
    "import warnings\n",
    "warnings.filterwarnings('ignore')\n",
    "\n",
    "py.init_notebook_mode(connected=True)\n",
    "pd.set_option('display.float_format', lambda x: '%.2f' % x)"
   ]
  },
  {
   "cell_type": "code",
   "execution_count": null,
   "id": "ece44a0a",
   "metadata": {},
   "outputs": [],
   "source": [
    "df=pd.read_csv(\"ceo_data_pay_merged_r3000.csv\")\n",
    "df = df.loc[:, ~df.columns.str.contains('^Unnamed')]"
   ]
  },
  {
   "cell_type": "code",
   "execution_count": null,
   "id": "4b797dd9",
   "metadata": {},
   "outputs": [],
   "source": [
    "df.head()"
   ]
  },
  {
   "cell_type": "markdown",
   "id": "1ac85621",
   "metadata": {},
   "source": [
    "### Cleaning Data"
   ]
  },
  {
   "cell_type": "code",
   "execution_count": null,
   "id": "88a91f1e",
   "metadata": {},
   "outputs": [],
   "source": [
    "df[\"industry\"] = df[\"industry\"].str.replace(r'[^a-zA-Z_]', ' ', regex=True)\n",
    "df[\"industry\"] = df[\"industry\"].replace(r'\\s+', ' ', regex=True)\n",
    "\n",
    "df[\"median_worker_pay\"] = df[\"median_worker_pay\"].str.replace(r\"[$,]\", \"\", regex=True)\n",
    "df[\"median_worker_pay\"] = pd.to_numeric(df[\"median_worker_pay\"], errors=\"coerce\")\n",
    "\n",
    "df[\"salary\"] = df[\"salary\"].str.replace(r\"[$,]\", \"\", regex=True)\n",
    "df[\"salary\"] = pd.to_numeric(df[\"salary\"], errors=\"coerce\")\n",
    "\n",
    "df[\"pay_ratio\"]=df[\"pay_ratio\"].str.split(':1').str[0]\n",
    "df[\"pay_ratio\"].replace(',','', regex=True, inplace=True)\n",
    "df[\"pay_ratio\"] = pd.to_numeric(df[\"pay_ratio\"], errors=\"coerce\")"
   ]
  },
  {
   "cell_type": "code",
   "execution_count": null,
   "id": "12cba516",
   "metadata": {},
   "outputs": [],
   "source": [
    "df.sort_values(['salary'],ascending=False)"
   ]
  },
  {
   "cell_type": "markdown",
   "id": "145eaf36",
   "metadata": {},
   "source": [
    "### Feature Engineering"
   ]
  },
  {
   "cell_type": "code",
   "execution_count": null,
   "id": "39d12770",
   "metadata": {
    "scrolled": true
   },
   "outputs": [],
   "source": [
    "import yfinance as yf\n",
    "pd.set_option('display.max_rows', None)\n",
    "\n",
    "industry=[]\n",
    "sector=[]\n",
    "fullTimeEmployees=[]\n",
    "longBusinessSummary=[]\n",
    "totalRevenue=[]\n",
    "grossProfits=[]\n",
    "freeCashflow=[]\n",
    "operatingCashflow=[]\n",
    "for i,ticker_i in enumerate(df[\"ticker\"]):\n",
    "#     try:\n",
    "    ticker=yf.Ticker(str(ticker_i))\n",
    "    print(i,ticker)\n",
    "\n",
    "    try:\n",
    "        industry.append(ticker.info[\"industry\"])\n",
    "    except:\n",
    "        print(\"industry-Issue\",ticker)\n",
    "        industry.append(\"Issue\")\n",
    "\n",
    "    try:\n",
    "        sector.append(ticker.info[\"sector\"])\n",
    "    except:\n",
    "        print(\"sector-Issue\",ticker)\n",
    "        sector.append(\"Issue\")\n",
    "\n",
    "    try:\n",
    "        fullTimeEmployees.append(ticker.info[\"fullTimeEmployees\"])\n",
    "    except:\n",
    "        print(\"fullTimeEmployees-Issue\",ticker)\n",
    "        fullTimeEmployees.append(np.nan)\n",
    "\n",
    "    try:\n",
    "        longBusinessSummary.append(ticker.info[\"longBusinessSummary\"])\n",
    "    except:\n",
    "        print(\"longBusinessSummary-Issue\",ticker)\n",
    "        longBusinessSummary.append(\"Issue\")\n",
    "\n",
    "    try:\n",
    "        totalRevenue.append(ticker.info[\"totalRevenue\"])\n",
    "    except:\n",
    "        print(\"totalRevenue-Issue\",ticker)\n",
    "        totalRevenue.append(np.nan)\n",
    "\n",
    "    try:\n",
    "        grossProfits.append(ticker.info[\"grossProfits\"])\n",
    "    except:\n",
    "        print(\"grossProfits-Issue\",ticker)\n",
    "        grossProfits.append(np.nan)\n",
    "\n",
    "    try:\n",
    "        freeCashflow.append(ticker.info[\"freeCashflow\"])\n",
    "    except:\n",
    "        print(\"freeCashflow-Issue\",ticker)\n",
    "        freeCashflow.append(np.nan)\n",
    "\n",
    "    try:\n",
    "        operatingCashflow.append(ticker.info[\"operatingCashflow\"])\n",
    "    except:\n",
    "        print(\"operatingCashflow-Issue\",ticker)\n",
    "        operatingCashflow.append(np.nan)\n",
    "#     except:\n",
    "#         print(\"Issue\",ticker)\n",
    "#         industry.append(\"Issue\")\n",
    "#         sector.append(\"Issue\")\n",
    "#         fullTimeEmployees.append(\"Issue\")\n",
    "#         longBusinessSummary.append(\"Issue\")\n",
    "#         totalRevenue.append(\"Issue\")\n",
    "#         grossProfits.append(\"Issue\")\n",
    "#         freeCashflow.append(\"Issue\")\n",
    "#         operatingCashflow.append(\"Issue\")"
   ]
  },
  {
   "cell_type": "code",
   "execution_count": null,
   "id": "ab7f02e4",
   "metadata": {},
   "outputs": [],
   "source": [
    "df[\"industry\"]=industry\n",
    "df[\"sector\"]=sector\n",
    "df[\"fullTimeEmployees\"]=fullTimeEmployees\n",
    "df[\"longBusinessSummary\"]=longBusinessSummary\n",
    "df[\"totalRevenue\"]=totalRevenue\n",
    "df[\"grossProfits\"]=grossProfits\n",
    "df[\"freeCashflow\"]=freeCashflow\n",
    "df[\"operatingCashflow\"]=operatingCashflow"
   ]
  },
  {
   "cell_type": "code",
   "execution_count": null,
   "id": "1c1c7488",
   "metadata": {},
   "outputs": [],
   "source": [
    "df.dtypes"
   ]
  },
  {
   "cell_type": "code",
   "execution_count": null,
   "id": "c19b3248",
   "metadata": {},
   "outputs": [],
   "source": [
    "df_before_na = df.copy(deep=True)"
   ]
  },
  {
   "cell_type": "code",
   "execution_count": null,
   "id": "7fb3613c",
   "metadata": {},
   "outputs": [],
   "source": [
    "df=df.fillna(0)\n",
    "# df=df.dropna()"
   ]
  },
  {
   "cell_type": "code",
   "execution_count": null,
   "id": "80b8c01c",
   "metadata": {},
   "outputs": [],
   "source": [
    "df"
   ]
  },
  {
   "cell_type": "code",
   "execution_count": null,
   "id": "6732fc6f",
   "metadata": {},
   "outputs": [],
   "source": [
    "df.to_csv(\"Russell3000.csv\",index=False)"
   ]
  },
  {
   "cell_type": "code",
   "execution_count": null,
   "id": "3796c7e0",
   "metadata": {},
   "outputs": [],
   "source": [
    "import pandas as pd\n",
    "import numpy as np\n",
    "\n",
    "import plotly.express as px\n",
    "import plotly.graph_objects as go\n",
    "\n",
    "from plotly.subplots import make_subplots\n",
    "import plotly.figure_factory as ff\n",
    "\n",
    "pd.set_option('display.float_format', lambda x: '%.2f' % x)\n",
    "\n",
    "df=pd.read_csv(\"Russell3000.csv\")"
   ]
  },
  {
   "cell_type": "markdown",
   "id": "a2b26cf2",
   "metadata": {},
   "source": [
    "### Univariate Analysis"
   ]
  },
  {
   "cell_type": "code",
   "execution_count": null,
   "id": "8398ef10",
   "metadata": {},
   "outputs": [],
   "source": [
    "# num_cols=df.select_dtypes(include=[np.number])\n",
    "\n",
    "num_cols = list(df.select_dtypes(include = np.number).columns)"
   ]
  },
  {
   "cell_type": "code",
   "execution_count": null,
   "id": "24f71c9f",
   "metadata": {},
   "outputs": [],
   "source": [
    "colorscale = [[0, '#1f77b4'],[.5, '#aec7e8'],[1, '#ff7f0e']]\n",
    "fig = ff.create_table(round(df[num_cols].describe().reset_index(), 2), font_colors = ['white'], colorscale = colorscale)\n",
    "\n",
    "for i in range(len(fig.layout.annotations)):\n",
    "    fig.layout.annotations[i].font.size = 9\n",
    "    \n",
    "fig.update_layout(\n",
    "    title_text = 'Descriptive Statistics on the numerical columns',\n",
    "    margin = {'t':50},\n",
    "    template= \"plotly_dark\"\n",
    ")\n",
    "    \n",
    "fig.show()"
   ]
  },
  {
   "cell_type": "code",
   "execution_count": null,
   "id": "7d205c0b",
   "metadata": {},
   "outputs": [],
   "source": [
    "# categorized_cols=df.select_dtypes(exclude=[object])\n",
    "\n",
    "categorized_cols = list(df.select_dtypes(include = 'object').columns)"
   ]
  },
  {
   "cell_type": "code",
   "execution_count": null,
   "id": "371de1de",
   "metadata": {},
   "outputs": [],
   "source": [
    "colorscale = [[0, '#1f77b4'],[.5, '#aec7e8'],[1, '#ff7f0e']]\n",
    "fig = ff.create_table(df[categorized_cols].describe().reset_index(), font_colors = ['white'], colorscale = colorscale)\n",
    "\n",
    "for i in range(len(fig.layout.annotations)):\n",
    "    fig.layout.annotations[i].font.size = 9\n",
    "    \n",
    "fig.update_layout(\n",
    "    title_text = 'Statistics of the categorical columns',\n",
    "    margin = {'t':50},\n",
    "    template= \"plotly_dark\"\n",
    ")\n",
    "    \n",
    "fig.show()"
   ]
  },
  {
   "cell_type": "code",
   "execution_count": null,
   "id": "b7b9e14c",
   "metadata": {},
   "outputs": [],
   "source": [
    "num_cols"
   ]
  },
  {
   "cell_type": "code",
   "execution_count": null,
   "id": "4e8b336f",
   "metadata": {},
   "outputs": [],
   "source": [
    "def plot_histogram(col_name):\n",
    "    series = df[col_name]\n",
    "    # remove zero values items\n",
    "    series = series[ series != 0 ]\n",
    "    smin,smax = series.min(),series.max()\n",
    "    # remove outliers for +- three standard deviations.\n",
    "    series = series[ ~( ( series - series.mean() ).abs() > 3 * series.std() ) ]\n",
    "    percentiles = [ np.percentile(series,n) for n in (2.5,50,97.5) ]\n",
    "    \n",
    "    trace0 = go.Histogram( x = series,\n",
    "                            histfunc = 'avg', \n",
    "                            histnorm = 'probability density',\n",
    "                            opacity=.75,\n",
    "                            marker = {'color':'#EB89B5'})\n",
    "    data_ = go.Data( [trace0] )\n",
    "    \n",
    "    shapes = [{ 'line': { 'color': '#0099FF', 'dash':'solid', 'width':2 },\n",
    "                'type':'line',\n",
    "                'x0':percentiles[0], 'x1':percentiles[0], 'xref':'x',\n",
    "                'y0':-0.1, 'y1':1, 'yref':'paper' },\n",
    "    { 'line': { 'color': '#00999F', 'dash':'solid', 'width':1 },\n",
    "                'type':'line',\n",
    "                'x0':percentiles[1], 'x1':percentiles[1], 'xref':'x',\n",
    "                'y0':-0.1, 'y1':1, 'yref':'paper' },\n",
    "    \n",
    "              { 'line': { 'color': '#0099FF', 'dash':'solid', 'width':2 },\n",
    "                'type':'line',\n",
    "                'x0':percentiles[2], 'x1':percentiles[2], 'xref':'x',\n",
    "                'y0':-0.1, 'y1':1, 'yref':'paper' } \n",
    "             ]\n",
    "    \n",
    "    annotations = [ {'x': percentiles[0], 'xref':'x','xanchor':'right',\n",
    "                     'y': .3, 'yref':'paper', \n",
    "                     'text':'2.5%', 'font':{'size':16},\n",
    "                     'showarrow':False},\n",
    "                   \n",
    "                    {'x': percentiles[1], 'xref':'x','xanchor':'center',\n",
    "                     'y': .2, 'yref':'paper', \n",
    "                     'text':'95%<br>median = {0:,.2f}<br>mean = {1:,.2f}<br>min = {2:,}<br>max = {3:,}'\n",
    "                         .format(percentiles[1],series.mean(),smin,smax), \n",
    "                     'showarrow':False,\n",
    "                     'font':{'size':20} },\n",
    "                   \n",
    "    {'x': percentiles[2], 'xref':'x','xanchor':'left',\n",
    "                     'y': .3, 'yref':'paper', \n",
    "                     'text':'2.5%','font':{'size':16}, \n",
    "                     'showarrow':False},\n",
    "                   \n",
    "                    {'x': .5, 'xref':'paper','xanchor':'center',\n",
    "                     'y': 1.1, 'yref':'paper','yanchor':'middle', \n",
    "                     'text':'Outliers above or below three standard deviations are excluded from the graph, mean and median calculations.',\n",
    "                     'font':{'size':15,'color':'mistyrose'}, \n",
    "                     'showarrow':False} \n",
    "                  ]\n",
    "    \n",
    "    layout = go.Layout( title = col_name.replace('_',' ').capitalize(),\n",
    "                        titlefont = {'size':50},\n",
    "                        yaxis = {'title':'Probability/Density'},\n",
    "                        xaxis = {'title':col_name, 'type':'linear'},\n",
    "                        shapes = shapes,\n",
    "                         annotations = annotations\n",
    "                         )\n",
    "    figure = go.Figure(data = data_, layout = layout)\n",
    "    py.iplot(figure)\n",
    "    \n",
    "def plot_histogram_without_outliers(col_name):\n",
    "    series = df[col_name]\n",
    "    # remove zero values items\n",
    "    series = series[ series != 0 ]\n",
    "    smin,smax = series.min(),series.max()\n",
    "    # remove outliers for +- three standard deviations.\n",
    "#     series = series[ ~( ( series - series.mean() ).abs() > 3 * series.std() ) ]\n",
    "    percentiles = [ np.percentile(series,n) for n in (2.5,50,97.5) ]\n",
    "    \n",
    "    trace0 = go.Histogram( x = series,\n",
    "                            histfunc = 'avg', \n",
    "                            histnorm = 'probability density',\n",
    "                            opacity=.75,\n",
    "                            marker = {'color':'#EB89B5'})\n",
    "    data_ = go.Data( [trace0] )\n",
    "    \n",
    "    shapes = [{ 'line': { 'color': '#0099FF', 'dash':'solid', 'width':2 },\n",
    "                'type':'line',\n",
    "                'x0':percentiles[0], 'x1':percentiles[0], 'xref':'x',\n",
    "                'y0':-0.1, 'y1':1, 'yref':'paper' },\n",
    "    { 'line': { 'color': '#00999F', 'dash':'solid', 'width':1 },\n",
    "                'type':'line',\n",
    "                'x0':percentiles[1], 'x1':percentiles[1], 'xref':'x',\n",
    "                'y0':-0.1, 'y1':1, 'yref':'paper' },\n",
    "    \n",
    "              { 'line': { 'color': '#0099FF', 'dash':'solid', 'width':2 },\n",
    "                'type':'line',\n",
    "                'x0':percentiles[2], 'x1':percentiles[2], 'xref':'x',\n",
    "                'y0':-0.1, 'y1':1, 'yref':'paper' } \n",
    "             ]\n",
    "    \n",
    "    annotations = [ {'x': percentiles[0], 'xref':'x','xanchor':'right',\n",
    "                     'y': .3, 'yref':'paper', \n",
    "                     'text':'2.5%', 'font':{'size':16},\n",
    "                     'showarrow':False},\n",
    "                   \n",
    "                    {'x': percentiles[1], 'xref':'x','xanchor':'center',\n",
    "                     'y': .2, 'yref':'paper', \n",
    "                     'text':'95%<br>median = {0:,.2f}<br>mean = {1:,.2f}<br>min = {2:,}<br>max = {3:,}'\n",
    "                         .format(percentiles[1],series.mean(),smin,smax), \n",
    "                     'showarrow':False,\n",
    "                     'font':{'size':20} },\n",
    "                   \n",
    "    {'x': percentiles[2], 'xref':'x','xanchor':'left',\n",
    "                     'y': .3, 'yref':'paper', \n",
    "                     'text':'2.5%','font':{'size':16}, \n",
    "                     'showarrow':False},\n",
    "                   \n",
    "                    {'x': .5, 'xref':'paper','xanchor':'center',\n",
    "                     'y': 1.1, 'yref':'paper','yanchor':'middle', \n",
    "                     'text':'Outliers above or below three standard deviations are excluded from the graph, mean and median calculations.',\n",
    "                     'font':{'size':15,'color':'mistyrose'}, \n",
    "                     'showarrow':False} \n",
    "                  ]\n",
    "    \n",
    "    layout = go.Layout( title = col_name.replace('_',' ').capitalize(),\n",
    "                        titlefont = {'size':50},\n",
    "                        yaxis = {'title':'Probability/Density'},\n",
    "                        xaxis = {'title':col_name, 'type':'linear'},\n",
    "                        shapes = shapes,\n",
    "                         annotations = annotations\n",
    "                         )\n",
    "    figure = go.Figure(data = data_, layout = layout)\n",
    "    py.iplot(figure)\n",
    "    \n",
    "def plot_value_counts(col_name, table=False, bar=False):\n",
    "    N=10\n",
    "    values_count = pd.DataFrame(df[col_name].value_counts())\n",
    "    values_count.columns = ['count']\n",
    "    # convert the index column into a regular column.\n",
    "    values_count[col_name] = [ str(i) for i in values_count.index ]\n",
    "    # add a column with the percentage of each data point to the sum of all data points.\n",
    "    values_count['percent'] = values_count['count'].div(values_count['count'].sum()).multiply(100).round(2)\n",
    "    # change the order of the columns.\n",
    "    values_count = values_count.reindex([col_name,'count','percent'],axis=1)\n",
    "    values_count.reset_index(drop=True,inplace=True)\n",
    "    values_count=values_count.head(N)\n",
    "    if bar:\n",
    "        # add a font size for annotations0 which is relevant to the length of the data points.\n",
    "        font_size = int(abs(20 - (.25 * len(values_count[col_name]))))\n",
    "        \n",
    "        trace0 = go.Bar(x=values_count[col_name], y=values_count['count'])\n",
    "        data_ = go.Data([trace0])\n",
    "        \n",
    "        annotations0 = [dict(x=xi,\n",
    "                             y=yi, \n",
    "                             showarrow=False,\n",
    "                             font={'size':font_size},\n",
    "                             text=\"{:,}\".format(yi),\n",
    "                             xanchor='center',\n",
    "                             yanchor='bottom')\n",
    "                        for xi,yi,_ in values_count.values]\n",
    "        \n",
    "        annotations1 = [dict(x=xi,\n",
    "                             y=yi/2,\n",
    "                             showarrow=False,\n",
    "                             text=\"{}%\".format(pi),\n",
    "                             xanchor='center',\n",
    "                             yanchor='middle',\n",
    "                             font={'color':'yellow'})\n",
    "                        for xi,yi,pi in values_count.values if pi > 10]\n",
    "        \n",
    "        annotations = annotations0 + annotations1\n",
    "        \n",
    "        layout = go.Layout(title=col_name.replace('_',' ').capitalize(),\n",
    "                           titlefont={'size':50},\n",
    "                           yaxis={'title':'count'},\n",
    "                           xaxis={'type':'category'},\n",
    "                           annotations=annotations)\n",
    "        figure = go.Figure(data=data_, layout=layout)\n",
    "        py.iplot(figure)\n",
    "    \n",
    "    if table: \n",
    "        values_count['count'] = values_count['count'].apply(lambda d : \"{:,}\".format(d))\n",
    "        table = ff.create_table(values_count,index_title=\"race\")\n",
    "        py.iplot(table)\n",
    "    \n",
    "    return values_count\n"
   ]
  },
  {
   "cell_type": "code",
   "execution_count": null,
   "id": "5c944229",
   "metadata": {},
   "outputs": [],
   "source": [
    "# for col in num_cols :\n",
    "#     plot_histogram(col)\n",
    "    \n",
    "# for col in num_cols :\n",
    "#     plot_histogram_without_outliers(col)\n",
    "    \n",
    "\n"
   ]
  },
  {
   "cell_type": "code",
   "execution_count": null,
   "id": "7e51d6e3",
   "metadata": {},
   "outputs": [],
   "source": [
    "categorized_cols"
   ]
  },
  {
   "cell_type": "code",
   "execution_count": null,
   "id": "d556c5e3",
   "metadata": {},
   "outputs": [],
   "source": [
    "# Remove specific columns from the categorized_cols list\n",
    "categorized_cols = [col for col in categorized_cols if col not in ['ticker', 'company_name', 'ceo_name', 'longBusinessSummary']]\n"
   ]
  },
  {
   "cell_type": "code",
   "execution_count": null,
   "id": "e0523341",
   "metadata": {
    "scrolled": false
   },
   "outputs": [],
   "source": [
    "df_cat=[]\n",
    "for col in categorized_cols:\n",
    "    values_count = plot_value_counts(col,1,1)\n",
    "    df_cat.append(values_count)"
   ]
  },
  {
   "cell_type": "code",
   "execution_count": null,
   "id": "eeb52115",
   "metadata": {},
   "outputs": [],
   "source": [
    "df"
   ]
  },
  {
   "cell_type": "code",
   "execution_count": null,
   "id": "bc126166",
   "metadata": {},
   "outputs": [],
   "source": [
    "industry_10=df_cat[0]['industry'].values.tolist()"
   ]
  },
  {
   "cell_type": "code",
   "execution_count": null,
   "id": "8aea8966",
   "metadata": {},
   "outputs": [],
   "source": [
    "df_bi_industry=df[df[\"industry\"].isin(industry_10)]"
   ]
  },
  {
   "cell_type": "markdown",
   "id": "c5f23609",
   "metadata": {},
   "source": [
    "### Bivariate Analysis"
   ]
  },
  {
   "cell_type": "code",
   "execution_count": null,
   "id": "4fdaac82",
   "metadata": {},
   "outputs": [],
   "source": [
    "df"
   ]
  },
  {
   "cell_type": "code",
   "execution_count": null,
   "id": "f5a5d949",
   "metadata": {},
   "outputs": [],
   "source": [
    "import plotly.express as px\n",
    "px.scatter(df, x=\"median_worker_pay\", y=\"salary\",\n",
    "size=\"fullTimeEmployees\", color=\"company_name\",hover_name=\"ticker\")"
   ]
  },
  {
   "cell_type": "code",
   "execution_count": null,
   "id": "b631563a",
   "metadata": {},
   "outputs": [],
   "source": [
    "px.scatter(df, x=\"pay_ratio\", y=\"salary\",\n",
    "size=\"fullTimeEmployees\", color=\"company_name\",hover_name=\"ticker\")"
   ]
  },
  {
   "cell_type": "code",
   "execution_count": null,
   "id": "a93eb01c",
   "metadata": {},
   "outputs": [],
   "source": [
    "px.scatter(df, x=\"totalRevenue\", y=\"salary\",\n",
    "size=\"fullTimeEmployees\", color=\"company_name\",hover_name=\"ticker\")"
   ]
  },
  {
   "cell_type": "code",
   "execution_count": null,
   "id": "68be27b8",
   "metadata": {},
   "outputs": [],
   "source": [
    "px.scatter(df, x=\"grossProfits\", y=\"salary\",\n",
    "size=\"fullTimeEmployees\", color=\"company_name\",hover_name=\"ticker\")"
   ]
  },
  {
   "cell_type": "code",
   "execution_count": null,
   "id": "f7317cb5",
   "metadata": {},
   "outputs": [],
   "source": [
    "px.scatter(df, x=\"freeCashflow\", y=\"salary\",\n",
    "size=\"fullTimeEmployees\", color=\"company_name\",hover_name=\"ticker\")"
   ]
  },
  {
   "cell_type": "code",
   "execution_count": null,
   "id": "114c790d",
   "metadata": {},
   "outputs": [],
   "source": [
    "px.scatter(df, x=\"operatingCashflow\", y=\"salary\",\n",
    "size=\"fullTimeEmployees\", color=\"company_name\",hover_name=\"ticker\")"
   ]
  }
 ],
 "metadata": {
  "kernelspec": {
   "display_name": "Python 3 (ipykernel)",
   "language": "python",
   "name": "python3"
  },
  "language_info": {
   "codemirror_mode": {
    "name": "ipython",
    "version": 3
   },
   "file_extension": ".py",
   "mimetype": "text/x-python",
   "name": "python",
   "nbconvert_exporter": "python",
   "pygments_lexer": "ipython3",
   "version": "3.9.12"
  }
 },
 "nbformat": 4,
 "nbformat_minor": 5
}
